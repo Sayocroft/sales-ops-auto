{
 "cells": [
  {
   "cell_type": "markdown",
   "metadata": {},
   "source": [
    "# SetUp"
   ]
  },
  {
   "cell_type": "code",
   "execution_count": 4,
   "metadata": {},
   "outputs": [],
   "source": [
    "# 📦 Main data packages\n",
    "import numpy as np          # Numerical operations (arrays, stats, etc.)\n",
    "import pandas as pd         # Data manipulation using DataFrames\n",
    "import os\n",
    "\n",
    "# 📊 Stats & time series\n",
    "import statsmodels.formula.api as smf  # Easy linear modeling with formulas like y ~ x\n",
    "from statsmodels.tsa.seasonal import seasonal_decompose  # Split time series into trend, seasonality, residuals\n",
    "from scipy.ndimage import gaussian_filter  # Smooth data (useful for visual smoothing)\n",
    "\n",
    "# 📆 Calendar utilities\n",
    "from calendar import monthrange     # Get number of days in a given month\n",
    "from calendar import month_name     # Get month names (e.g., January)\n",
    "\n",
    "# 🎨 Visualization libraries\n",
    "import matplotlib.pyplot as plt     # Core plotting library\n",
    "import matplotlib.patches as patches  # Add custom shapes (e.g., rectangles) to plots\n",
    "import seaborn as sns               # High-level interface for beautiful statistical plots\n",
    "\n",
    "# 🔧 Seaborn styling\n",
    "sns.set_style(\n",
    "    style='darkgrid',               # Background grid with white axes\n",
    "    rc={'axes.facecolor': 'white', 'grid.color': '.8'}  # Customize grid and background color\n",
    ")\n",
    "\n",
    "# 🎨 Custom colors\n",
    "NF_ORANGE = '#ff5a36'               # Brand/custom color - bright orange\n",
    "NF_BLUE = '#163251'                # Brand/custom color - deep blue\n",
    "cmaps_hex = ['#193251','#FF5A36','#696969', '#7589A2','#FF5A36', '#DB6668']  # Custom palette\n",
    "\n",
    "# 🔧 Set seaborn palette and store it in sns_c\n",
    "sns.set_palette(palette=cmaps_hex)             # Apply custom color palette globally\n",
    "sns_c = sns.color_palette(palette=cmaps_hex)   # Save palette as variable to use colors manually\n",
    "\n",
    "# 🧠 Plot settings for Jupyter\n",
    "from pandas.plotting import register_matplotlib_converters\n",
    "register_matplotlib_converters()              # Avoid time series plotting issues\n",
    "\n",
    "# 📐 Global plot config\n",
    "plt.rcParams['figure.figsize'] = [12, 6]       # Set default plot size\n",
    "plt.rcParams['figure.dpi'] = 100               # Set default resolution (100 is good quality)"
   ]
  },
  {
   "cell_type": "code",
   "execution_count": 2,
   "metadata": {},
   "outputs": [
    {
     "data": {
      "text/html": [
       "<svg  width=\"330\" height=\"55\"><rect x=\"0\" y=\"0\" width=\"55\" height=\"55\" style=\"fill:#193251;stroke-width:2;stroke:rgb(255,255,255)\"/><rect x=\"55\" y=\"0\" width=\"55\" height=\"55\" style=\"fill:#ff5a36;stroke-width:2;stroke:rgb(255,255,255)\"/><rect x=\"110\" y=\"0\" width=\"55\" height=\"55\" style=\"fill:#696969;stroke-width:2;stroke:rgb(255,255,255)\"/><rect x=\"165\" y=\"0\" width=\"55\" height=\"55\" style=\"fill:#7589a2;stroke-width:2;stroke:rgb(255,255,255)\"/><rect x=\"220\" y=\"0\" width=\"55\" height=\"55\" style=\"fill:#ff5a36;stroke-width:2;stroke:rgb(255,255,255)\"/><rect x=\"275\" y=\"0\" width=\"55\" height=\"55\" style=\"fill:#db6668;stroke-width:2;stroke:rgb(255,255,255)\"/></svg>"
      ],
      "text/plain": [
       "[(0.09803921568627451, 0.19607843137254902, 0.3176470588235294),\n",
       " (1.0, 0.35294117647058826, 0.21176470588235294),\n",
       " (0.4117647058823529, 0.4117647058823529, 0.4117647058823529),\n",
       " (0.4588235294117647, 0.5372549019607843, 0.6352941176470588),\n",
       " (1.0, 0.35294117647058826, 0.21176470588235294),\n",
       " (0.8588235294117647, 0.4, 0.40784313725490196)]"
      ]
     },
     "execution_count": 2,
     "metadata": {},
     "output_type": "execute_result"
    }
   ],
   "source": [
    "sns_c"
   ]
  },
  {
   "cell_type": "code",
   "execution_count": 7,
   "metadata": {},
   "outputs": [],
   "source": [
    "data_path = '/Users/sayo/personal_projects/sales-ops-auto/data'\n",
    "merged_tables_df = pd.read_csv(os.path.join(data_path, 'merged_tables.csv'))"
   ]
  }
 ],
 "metadata": {
  "kernelspec": {
   "display_name": ".venv",
   "language": "python",
   "name": "python3"
  },
  "language_info": {
   "codemirror_mode": {
    "name": "ipython",
    "version": 3
   },
   "file_extension": ".py",
   "mimetype": "text/x-python",
   "name": "python",
   "nbconvert_exporter": "python",
   "pygments_lexer": "ipython3",
   "version": "3.11.3"
  }
 },
 "nbformat": 4,
 "nbformat_minor": 2
}
