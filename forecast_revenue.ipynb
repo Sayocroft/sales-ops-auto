{
 "cells": [
  {
   "cell_type": "markdown",
   "metadata": {},
   "source": [
    "## Step 1. Define Objective\n",
    "\n",
    "You want to forecast monthly revenue based on close_value from deals marked as Won.\n",
    "\n",
    "\t•\tYou want to forecast future monthly revenue\n",
    "\t•\tBased only on historical close_date and close_value\n",
    "\t•\tNot yet incorporating agent/product/account info"
   ]
  },
  {
   "cell_type": "markdown",
   "metadata": {},
   "source": [
    "## Setup"
   ]
  },
  {
   "cell_type": "code",
   "execution_count": 2,
   "metadata": {},
   "outputs": [
    {
     "name": "stderr",
     "output_type": "stream",
     "text": [
      "/Users/sayo/personal_projects/sales-ops-auto/.venv/lib/python3.11/site-packages/tqdm/auto.py:21: TqdmWarning: IProgress not found. Please update jupyter and ipywidgets. See https://ipywidgets.readthedocs.io/en/stable/user_install.html\n",
      "  from .autonotebook import tqdm as notebook_tqdm\n",
      "Importing plotly failed. Interactive plots will not work.\n"
     ]
    }
   ],
   "source": [
    "import pandas as pd\n",
    "import numpy as np\n",
    "import matplotlib.pyplot as plt\n",
    "import seaborn as sns\n",
    "import os\n",
    "from prophet import Prophet\n",
    "from prophet.plot import plot_plotly\n",
    "\n",
    "import xgboost as xgb\n",
    "from xgboost import XGBRegressor\n",
    "\n",
    "\n",
    "from sklearn.linear_model import LinearRegression\n",
    "\n",
    "from sklearn.preprocessing import StandardScaler\n",
    "\n",
    "from statsmodels.tsa.arima.model import ARIMA\n",
    "from sklearn.metrics import mean_absolute_error, mean_squared_error\n",
    "import numpy as np\n",
    "\n",
    "\n",
    "color_pal = sns.color_palette()\n",
    "plt.style.use('fivethirtyeight')\n",
    "\n",
    "import warnings\n",
    "warnings.filterwarnings(\"ignore\")"
   ]
  },
  {
   "cell_type": "markdown",
   "metadata": {},
   "source": [
    "## Step 2: Data import"
   ]
  },
  {
   "cell_type": "code",
   "execution_count": null,
   "metadata": {},
   "outputs": [
    {
     "ename": "NameError",
     "evalue": "name 'pd' is not defined",
     "output_type": "error",
     "traceback": [
      "\u001b[0;31m---------------------------------------------------------------------------\u001b[0m",
      "\u001b[0;31mNameError\u001b[0m                                 Traceback (most recent call last)",
      "Cell \u001b[0;32mIn[1], line 2\u001b[0m\n\u001b[1;32m      1\u001b[0m data_path \u001b[38;5;241m=\u001b[39m \u001b[38;5;124m'\u001b[39m\u001b[38;5;124m/Users/sayo/personal_projects/sales-ops-auto/data\u001b[39m\u001b[38;5;124m'\u001b[39m\n\u001b[0;32m----> 2\u001b[0m pipeline_df \u001b[38;5;241m=\u001b[39m \u001b[43mpd\u001b[49m\u001b[38;5;241m.\u001b[39mread_csv(os\u001b[38;5;241m.\u001b[39mpath\u001b[38;5;241m.\u001b[39mjoin(data_path, \u001b[38;5;124m'\u001b[39m\u001b[38;5;124msales_pipeline.csv\u001b[39m\u001b[38;5;124m'\u001b[39m))\n",
      "\u001b[0;31mNameError\u001b[0m: name 'pd' is not defined"
     ]
    }
   ],
   "source": [
    "pipeline_df = pd.read_csv(os.path.join(data_path, 'sales_pipeline.csv'))"
   ]
  },
  {
   "cell_type": "code",
   "execution_count": null,
   "metadata": {},
   "outputs": [
    {
     "data": {
      "application/vnd.microsoft.datawrangler.viewer.v0+json": {
       "columns": [
        {
         "name": "index",
         "rawType": "int64",
         "type": "integer"
        },
        {
         "name": "opportunity_id",
         "rawType": "object",
         "type": "string"
        },
        {
         "name": "sales_agent",
         "rawType": "object",
         "type": "string"
        },
        {
         "name": "product",
         "rawType": "object",
         "type": "string"
        },
        {
         "name": "account",
         "rawType": "object",
         "type": "unknown"
        },
        {
         "name": "deal_stage",
         "rawType": "object",
         "type": "string"
        },
        {
         "name": "engage_date",
         "rawType": "object",
         "type": "string"
        },
        {
         "name": "close_date",
         "rawType": "object",
         "type": "unknown"
        },
        {
         "name": "close_value",
         "rawType": "float64",
         "type": "float"
        }
       ],
       "conversionMethod": "pd.DataFrame",
       "ref": "be7ce9a6-8944-4938-a98c-fda753fe54cf",
       "rows": [
        [
         "0",
         "1C1I7A6R",
         "Moses Frase",
         "GTX Plus Basic",
         "Cancity",
         "Won",
         "2016-10-20",
         "2017-03-01",
         "1054.0"
        ],
        [
         "1",
         "Z063OYW0",
         "Darcel Schlecht",
         "GTXPro",
         "Isdom",
         "Won",
         "2016-10-25",
         "2017-03-11",
         "4514.0"
        ],
        [
         "2",
         "EC4QE1BX",
         "Darcel Schlecht",
         "MG Special",
         "Cancity",
         "Won",
         "2016-10-25",
         "2017-03-07",
         "50.0"
        ],
        [
         "3",
         "MV1LWRNH",
         "Moses Frase",
         "GTX Basic",
         "Codehow",
         "Won",
         "2016-10-25",
         "2017-03-09",
         "588.0"
        ],
        [
         "4",
         "PE84CX4O",
         "Zane Levy",
         "GTX Basic",
         "Hatfan",
         "Won",
         "2016-10-25",
         "2017-03-02",
         "517.0"
        ],
        [
         "5",
         "ZNBS69V1",
         "Anna Snelling",
         "MG Special",
         "Ron-tech",
         "Won",
         "2016-10-29",
         "2017-03-01",
         "49.0"
        ],
        [
         "6",
         "9ME3374G",
         "Vicki Laflamme",
         "MG Special",
         "J-Texon",
         "Won",
         "2016-10-30",
         "2017-03-02",
         "57.0"
        ],
        [
         "7",
         "7GN8Q4LL",
         "Markita Hansen",
         "GTX Basic",
         "Cheers",
         "Won",
         "2016-11-01",
         "2017-03-07",
         "601.0"
        ],
        [
         "8",
         "OLK9LKZB",
         "Niesha Huffines",
         "GTX Plus Basic",
         "Zumgoity",
         "Won",
         "2016-11-01",
         "2017-03-03",
         "1026.0"
        ],
        [
         "9",
         "HAXMC4IX",
         "James Ascencio",
         "MG Advanced",
         null,
         "Engaging",
         "2016-11-03",
         null,
         null
        ]
       ],
       "shape": {
        "columns": 8,
        "rows": 10
       }
      },
      "text/html": [
       "<div>\n",
       "<style scoped>\n",
       "    .dataframe tbody tr th:only-of-type {\n",
       "        vertical-align: middle;\n",
       "    }\n",
       "\n",
       "    .dataframe tbody tr th {\n",
       "        vertical-align: top;\n",
       "    }\n",
       "\n",
       "    .dataframe thead th {\n",
       "        text-align: right;\n",
       "    }\n",
       "</style>\n",
       "<table border=\"1\" class=\"dataframe\">\n",
       "  <thead>\n",
       "    <tr style=\"text-align: right;\">\n",
       "      <th></th>\n",
       "      <th>opportunity_id</th>\n",
       "      <th>sales_agent</th>\n",
       "      <th>product</th>\n",
       "      <th>account</th>\n",
       "      <th>deal_stage</th>\n",
       "      <th>engage_date</th>\n",
       "      <th>close_date</th>\n",
       "      <th>close_value</th>\n",
       "    </tr>\n",
       "  </thead>\n",
       "  <tbody>\n",
       "    <tr>\n",
       "      <th>0</th>\n",
       "      <td>1C1I7A6R</td>\n",
       "      <td>Moses Frase</td>\n",
       "      <td>GTX Plus Basic</td>\n",
       "      <td>Cancity</td>\n",
       "      <td>Won</td>\n",
       "      <td>2016-10-20</td>\n",
       "      <td>2017-03-01</td>\n",
       "      <td>1054.0</td>\n",
       "    </tr>\n",
       "    <tr>\n",
       "      <th>1</th>\n",
       "      <td>Z063OYW0</td>\n",
       "      <td>Darcel Schlecht</td>\n",
       "      <td>GTXPro</td>\n",
       "      <td>Isdom</td>\n",
       "      <td>Won</td>\n",
       "      <td>2016-10-25</td>\n",
       "      <td>2017-03-11</td>\n",
       "      <td>4514.0</td>\n",
       "    </tr>\n",
       "    <tr>\n",
       "      <th>2</th>\n",
       "      <td>EC4QE1BX</td>\n",
       "      <td>Darcel Schlecht</td>\n",
       "      <td>MG Special</td>\n",
       "      <td>Cancity</td>\n",
       "      <td>Won</td>\n",
       "      <td>2016-10-25</td>\n",
       "      <td>2017-03-07</td>\n",
       "      <td>50.0</td>\n",
       "    </tr>\n",
       "    <tr>\n",
       "      <th>3</th>\n",
       "      <td>MV1LWRNH</td>\n",
       "      <td>Moses Frase</td>\n",
       "      <td>GTX Basic</td>\n",
       "      <td>Codehow</td>\n",
       "      <td>Won</td>\n",
       "      <td>2016-10-25</td>\n",
       "      <td>2017-03-09</td>\n",
       "      <td>588.0</td>\n",
       "    </tr>\n",
       "    <tr>\n",
       "      <th>4</th>\n",
       "      <td>PE84CX4O</td>\n",
       "      <td>Zane Levy</td>\n",
       "      <td>GTX Basic</td>\n",
       "      <td>Hatfan</td>\n",
       "      <td>Won</td>\n",
       "      <td>2016-10-25</td>\n",
       "      <td>2017-03-02</td>\n",
       "      <td>517.0</td>\n",
       "    </tr>\n",
       "    <tr>\n",
       "      <th>5</th>\n",
       "      <td>ZNBS69V1</td>\n",
       "      <td>Anna Snelling</td>\n",
       "      <td>MG Special</td>\n",
       "      <td>Ron-tech</td>\n",
       "      <td>Won</td>\n",
       "      <td>2016-10-29</td>\n",
       "      <td>2017-03-01</td>\n",
       "      <td>49.0</td>\n",
       "    </tr>\n",
       "    <tr>\n",
       "      <th>6</th>\n",
       "      <td>9ME3374G</td>\n",
       "      <td>Vicki Laflamme</td>\n",
       "      <td>MG Special</td>\n",
       "      <td>J-Texon</td>\n",
       "      <td>Won</td>\n",
       "      <td>2016-10-30</td>\n",
       "      <td>2017-03-02</td>\n",
       "      <td>57.0</td>\n",
       "    </tr>\n",
       "    <tr>\n",
       "      <th>7</th>\n",
       "      <td>7GN8Q4LL</td>\n",
       "      <td>Markita Hansen</td>\n",
       "      <td>GTX Basic</td>\n",
       "      <td>Cheers</td>\n",
       "      <td>Won</td>\n",
       "      <td>2016-11-01</td>\n",
       "      <td>2017-03-07</td>\n",
       "      <td>601.0</td>\n",
       "    </tr>\n",
       "    <tr>\n",
       "      <th>8</th>\n",
       "      <td>OLK9LKZB</td>\n",
       "      <td>Niesha Huffines</td>\n",
       "      <td>GTX Plus Basic</td>\n",
       "      <td>Zumgoity</td>\n",
       "      <td>Won</td>\n",
       "      <td>2016-11-01</td>\n",
       "      <td>2017-03-03</td>\n",
       "      <td>1026.0</td>\n",
       "    </tr>\n",
       "    <tr>\n",
       "      <th>9</th>\n",
       "      <td>HAXMC4IX</td>\n",
       "      <td>James Ascencio</td>\n",
       "      <td>MG Advanced</td>\n",
       "      <td>NaN</td>\n",
       "      <td>Engaging</td>\n",
       "      <td>2016-11-03</td>\n",
       "      <td>NaN</td>\n",
       "      <td>NaN</td>\n",
       "    </tr>\n",
       "  </tbody>\n",
       "</table>\n",
       "</div>"
      ],
      "text/plain": [
       "  opportunity_id      sales_agent         product   account deal_stage   \n",
       "0       1C1I7A6R      Moses Frase  GTX Plus Basic   Cancity        Won  \\\n",
       "1       Z063OYW0  Darcel Schlecht          GTXPro     Isdom        Won   \n",
       "2       EC4QE1BX  Darcel Schlecht      MG Special   Cancity        Won   \n",
       "3       MV1LWRNH      Moses Frase       GTX Basic   Codehow        Won   \n",
       "4       PE84CX4O        Zane Levy       GTX Basic    Hatfan        Won   \n",
       "5       ZNBS69V1    Anna Snelling      MG Special  Ron-tech        Won   \n",
       "6       9ME3374G   Vicki Laflamme      MG Special   J-Texon        Won   \n",
       "7       7GN8Q4LL   Markita Hansen       GTX Basic    Cheers        Won   \n",
       "8       OLK9LKZB  Niesha Huffines  GTX Plus Basic  Zumgoity        Won   \n",
       "9       HAXMC4IX   James Ascencio     MG Advanced       NaN   Engaging   \n",
       "\n",
       "  engage_date  close_date  close_value  \n",
       "0  2016-10-20  2017-03-01       1054.0  \n",
       "1  2016-10-25  2017-03-11       4514.0  \n",
       "2  2016-10-25  2017-03-07         50.0  \n",
       "3  2016-10-25  2017-03-09        588.0  \n",
       "4  2016-10-25  2017-03-02        517.0  \n",
       "5  2016-10-29  2017-03-01         49.0  \n",
       "6  2016-10-30  2017-03-02         57.0  \n",
       "7  2016-11-01  2017-03-07        601.0  \n",
       "8  2016-11-01  2017-03-03       1026.0  \n",
       "9  2016-11-03         NaN          NaN  "
      ]
     },
     "execution_count": 3,
     "metadata": {},
     "output_type": "execute_result"
    }
   ],
   "source": [
    "pipeline_df.head(10)"
   ]
  },
  {
   "cell_type": "markdown",
   "metadata": {},
   "source": [
    "## Step 3: Clean Data"
   ]
  },
  {
   "cell_type": "code",
   "execution_count": null,
   "metadata": {},
   "outputs": [],
   "source": [
    "# 1. Keep only 'Won' deals\n",
    "df_cleaned = pipeline_df[pipeline_df['deal_stage'] == 'Won'].copy()\n",
    "\n",
    "# 2. Drop rows with missing close_date or close_value\n",
    "df_cleaned = df_cleaned.dropna(subset=['close_date', 'close_value'])\n",
    "\n",
    "# 3. Convert close_date to datetime\n",
    "df_cleaned['close_date'] = pd.to_datetime(df_cleaned['close_date'])\n",
    "\n",
    "# 4. Sort by close_date\n",
    "df_cleaned = df_cleaned.sort_values('close_date')"
   ]
  },
  {
   "cell_type": "markdown",
   "metadata": {},
   "source": [
    "## Step 4: Feature Engineering"
   ]
  },
  {
   "cell_type": "code",
   "execution_count": null,
   "metadata": {},
   "outputs": [
    {
     "data": {
      "application/vnd.microsoft.datawrangler.viewer.v0+json": {
       "columns": [
        {
         "name": "date",
         "rawType": "datetime64[ns]",
         "type": "datetime"
        },
        {
         "name": "revenue",
         "rawType": "float64",
         "type": "float"
        }
       ],
       "conversionMethod": "pd.DataFrame",
       "ref": "e8e1a8be-8d7c-49df-9cf7-15e2f2b27ca1",
       "rows": [
        [
         "2017-03-31 00:00:00",
         "1134672.0"
        ],
        [
         "2017-04-30 00:00:00",
         "721932.0"
        ],
        [
         "2017-05-31 00:00:00",
         "1025713.0"
        ],
        [
         "2017-06-30 00:00:00",
         "1338466.0"
        ],
        [
         "2017-07-31 00:00:00",
         "696932.0"
        ]
       ],
       "shape": {
        "columns": 1,
        "rows": 5
       }
      },
      "text/html": [
       "<div>\n",
       "<style scoped>\n",
       "    .dataframe tbody tr th:only-of-type {\n",
       "        vertical-align: middle;\n",
       "    }\n",
       "\n",
       "    .dataframe tbody tr th {\n",
       "        vertical-align: top;\n",
       "    }\n",
       "\n",
       "    .dataframe thead th {\n",
       "        text-align: right;\n",
       "    }\n",
       "</style>\n",
       "<table border=\"1\" class=\"dataframe\">\n",
       "  <thead>\n",
       "    <tr style=\"text-align: right;\">\n",
       "      <th></th>\n",
       "      <th>revenue</th>\n",
       "    </tr>\n",
       "    <tr>\n",
       "      <th>date</th>\n",
       "      <th></th>\n",
       "    </tr>\n",
       "  </thead>\n",
       "  <tbody>\n",
       "    <tr>\n",
       "      <th>2017-03-31</th>\n",
       "      <td>1134672.0</td>\n",
       "    </tr>\n",
       "    <tr>\n",
       "      <th>2017-04-30</th>\n",
       "      <td>721932.0</td>\n",
       "    </tr>\n",
       "    <tr>\n",
       "      <th>2017-05-31</th>\n",
       "      <td>1025713.0</td>\n",
       "    </tr>\n",
       "    <tr>\n",
       "      <th>2017-06-30</th>\n",
       "      <td>1338466.0</td>\n",
       "    </tr>\n",
       "    <tr>\n",
       "      <th>2017-07-31</th>\n",
       "      <td>696932.0</td>\n",
       "    </tr>\n",
       "  </tbody>\n",
       "</table>\n",
       "</div>"
      ],
      "text/plain": [
       "              revenue\n",
       "date                 \n",
       "2017-03-31  1134672.0\n",
       "2017-04-30   721932.0\n",
       "2017-05-31  1025713.0\n",
       "2017-06-30  1338466.0\n",
       "2017-07-31   696932.0"
      ]
     },
     "execution_count": 5,
     "metadata": {},
     "output_type": "execute_result"
    }
   ],
   "source": [
    "# Aggregate to Monthly Revenue\n",
    "\n",
    "monthly_revenue_df = df_cleaned.resample('M', on='close_date')['close_value'].sum().reset_index()\n",
    "monthly_revenue_df.columns = ['date', 'revenue']\n",
    "\n",
    "# Set datetime index\n",
    "monthly_revenue_df.set_index('date', inplace=True)\n",
    "\n",
    "monthly_revenue_df.head()"
   ]
  },
  {
   "cell_type": "markdown",
   "metadata": {},
   "source": [
    "- lag features : These give your model access to past values:\n",
    "\t•\tlag_1: Revenue from last month\n",
    "\t•\tlag_2: Revenue from 2 months ago\n",
    "\n",
    "This helps the model learn patterns like “revenue tends to drop after a peak” or “what happened last month influences this month.”\n",
    "\n",
    "- rolling means : This smooths out fluctuations and shows the trend over time:\n",
    "\t•\trolling_3: Average revenue over the past 3 months\n",
    "\n",
    "- cyclinal features\n",
    "\n",
    "Months are cyclical (January comes after December), but numbers 1–12 aren’t.\n",
    "So we encode seasonality using sine/cosine:\n",
    "\t•\tmonth_sin and month_cos help the model understand things like “Q4 spikes” or “summer dips”\n",
    "\n",
    "This way, December and January are close together mathematically."
   ]
  },
  {
   "cell_type": "code",
   "execution_count": null,
   "metadata": {},
   "outputs": [],
   "source": [
    "monthly_revenue_df['lag_1'] = monthly_revenue_df['revenue'].shift(1)\n",
    "monthly_revenue_df['lag_2'] = monthly_revenue_df['revenue'].shift(2)\n",
    "monthly_revenue_df['rolling_3'] = monthly_revenue_df['revenue'].rolling(window=3).mean()\n",
    "\n",
    "monthly_revenue_df['month'] = monthly_revenue_df.index.month\n",
    "monthly_revenue_df['sin_month'] = np.sin(2 * np.pi * monthly_revenue_df['month'] / 12)\n",
    "monthly_revenue_df['cos_month'] = np.cos(2 * np.pi * monthly_revenue_df['month'] / 12)\n",
    "\n"
   ]
  },
  {
   "cell_type": "code",
   "execution_count": null,
   "metadata": {},
   "outputs": [],
   "source": [
    "# STEP 4c: DROP NaNs before split\n",
    "monthly_revenue_df = monthly_revenue_df.dropna()"
   ]
  },
  {
   "cell_type": "markdown",
   "metadata": {},
   "source": [
    "⚠️ Note: We drop the first few rows here because lag and rolling features (lag_1, lag_2, rolling_3)\n",
    "require past data to be computed. \n",
    "\n",
    "For example:\n",
    "\n",
    "- 'lag_2' needs values from 2 months ago\n",
    "- 'rolling_3' needs 3 full months of history\n",
    "\n",
    "As a result, the first rows (March, April, May) will have NaNs and must be dropped.\n",
    "This is expected and standard in time series forecasting workflows."
   ]
  },
  {
   "cell_type": "markdown",
   "metadata": {},
   "source": [
    "## Step 5 : Train/Test Split"
   ]
  },
  {
   "cell_type": "code",
   "execution_count": null,
   "metadata": {},
   "outputs": [
    {
     "name": "stdout",
     "output_type": "stream",
     "text": [
      "Train set:\n",
      "              revenue      lag_1      lag_2     rolling_3  month   \n",
      "date                                                               \n",
      "2017-06-30  1338466.0  1025713.0   721932.0  1.028704e+06      6  \\\n",
      "2017-07-31   696932.0  1338466.0  1025713.0  1.020370e+06      7   \n",
      "2017-08-31  1050059.0   696932.0  1338466.0  1.028486e+06      8   \n",
      "2017-09-30  1235264.0  1050059.0   696932.0  9.940850e+05      9   \n",
      "2017-10-31   731980.0  1235264.0  1050059.0  1.005768e+06     10   \n",
      "\n",
      "               sin_month     cos_month  \n",
      "date                                    \n",
      "2017-06-30  1.224647e-16 -1.000000e+00  \n",
      "2017-07-31 -5.000000e-01 -8.660254e-01  \n",
      "2017-08-31 -8.660254e-01 -5.000000e-01  \n",
      "2017-09-30 -1.000000e+00 -1.836970e-16  \n",
      "2017-10-31 -8.660254e-01  5.000000e-01  \n",
      "\n",
      "Test set:\n",
      "              revenue     lag_1      lag_2      rolling_3  month   \n",
      "date                                                               \n",
      "2017-11-30   938943.0  731980.0  1235264.0  968729.000000     11  \\\n",
      "2017-12-31  1131573.0  938943.0   731980.0  934165.333333     12   \n",
      "\n",
      "               sin_month  cos_month  \n",
      "date                                 \n",
      "2017-11-30 -5.000000e-01   0.866025  \n",
      "2017-12-31 -2.449294e-16   1.000000  \n"
     ]
    }
   ],
   "source": [
    "n_months = len(monthly_revenue_df)\n",
    "split_point = int(n_months * 0.8)\n",
    "\n",
    "train_df = monthly_revenue_df.iloc[:split_point]\n",
    "test_df = monthly_revenue_df.iloc[split_point:]\n",
    "\n",
    "# Just to verify:\n",
    "print(\"Train set:\")\n",
    "print(train_df.tail())\n",
    "print(\"\\nTest set:\")\n",
    "print(test_df.head())"
   ]
  },
  {
   "cell_type": "markdown",
   "metadata": {},
   "source": [
    "## Step 6: Scale/Encode \n",
    "\n",
    "Since your features are numerical and time series models can be sensitive to scale, we’ll use StandardScaler.\n",
    "\n",
    "We’ll scale:\n",
    "\t•\tlag_1\n",
    "\t•\tlag_2\n",
    "\t•\trolling_3\n",
    "\t•\tsin_month\n",
    "\t•\tcos_month\n",
    "\n",
    "Not revenue, since its my target"
   ]
  },
  {
   "cell_type": "code",
   "execution_count": null,
   "metadata": {},
   "outputs": [],
   "source": [
    "from sklearn.preprocessing import StandardScaler\n",
    "\n",
    "# Define features to scale\n",
    "features_to_scale = ['lag_1', 'lag_2', 'rolling_3', 'sin_month', 'cos_month']\n",
    "\n",
    "# Initialize the scaler\n",
    "scaler = StandardScaler()\n",
    "\n",
    "# Fit only on training data\n",
    "train_scaled = train_df.copy()\n",
    "train_scaled[features_to_scale] = scaler.fit_transform(train_scaled[features_to_scale])\n",
    "\n",
    "# Apply the same transformation to test data\n",
    "test_scaled = test_df.copy()\n",
    "test_scaled[features_to_scale] = scaler.transform(test_scaled[features_to_scale])"
   ]
  },
  {
   "cell_type": "markdown",
   "metadata": {},
   "source": [
    "## Step 7: Train the model"
   ]
  },
  {
   "cell_type": "code",
   "execution_count": null,
   "metadata": {},
   "outputs": [
    {
     "name": "stdout",
     "output_type": "stream",
     "text": [
      "Linear Regression MAE: 0.00\n",
      "Linear Regression RMSE: 0.00\n"
     ]
    }
   ],
   "source": [
    "# Linear Regression\n",
    "\n",
    "# Use original (unscaled) input features and revenue\n",
    "X_train = train_df[features_to_scale]\n",
    "y_train = train_df['revenue']\n",
    "\n",
    "X_test = test_df[features_to_scale]\n",
    "y_test = test_df['revenue']\n",
    "\n",
    "# Train model\n",
    "lr_model = LinearRegression()\n",
    "lr_model.fit(X_train, y_train)\n",
    "\n",
    "# Predict\n",
    "y_pred = lr_model.predict(X_test)\n",
    "\n",
    "# Evaluate\n",
    "mae = mean_absolute_error(y_test, y_pred)\n",
    "rmse = np.sqrt(mean_squared_error(y_test, y_pred))\n",
    "\n",
    "print(f\"Linear Regression MAE: {mae:.2f}\")\n",
    "print(f\"Linear Regression RMSE: {rmse:.2f}\")"
   ]
  },
  {
   "cell_type": "markdown",
   "metadata": {},
   "source": [
    "Linear regression is overfitting since my data points are so small"
   ]
  },
  {
   "cell_type": "code",
   "execution_count": null,
   "metadata": {},
   "outputs": [
    {
     "name": "stdout",
     "output_type": "stream",
     "text": [
      "               lag_1      lag_2      rolling_3     sin_month  cos_month\n",
      "date                                                                   \n",
      "2017-11-30  731980.0  1235264.0  968729.000000 -5.000000e-01   0.866025\n",
      "2017-12-31  938943.0   731980.0  934165.333333 -2.449294e-16   1.000000\n",
      "date\n",
      "2017-11-30     938943.0\n",
      "2017-12-31    1131573.0\n",
      "Name: revenue, dtype: float64\n"
     ]
    }
   ],
   "source": [
    "print(X_test)\n",
    "print(y_test)"
   ]
  },
  {
   "cell_type": "code",
   "execution_count": null,
   "metadata": {},
   "outputs": [
    {
     "name": "stdout",
     "output_type": "stream",
     "text": [
      "Actual: 938943.00 | Predicted: 938943.00 | Error: 0.00\n",
      "Actual: 1131573.00 | Predicted: 1131573.00 | Error: 0.00\n"
     ]
    }
   ],
   "source": [
    "for true, pred in zip(y_test, y_pred):\n",
    "    print(f\"Actual: {true:.2f} | Predicted: {pred:.2f} | Error: {abs(true - pred):.2f}\")"
   ]
  },
  {
   "cell_type": "code",
   "execution_count": null,
   "metadata": {},
   "outputs": [
    {
     "name": "stdout",
     "output_type": "stream",
     "text": [
      "ARIMA MAE: 303279.72\n",
      "ARIMA RMSE: 318206.17\n"
     ]
    }
   ],
   "source": [
    "# ARIMA\n",
    "\n",
    "# We'll use only the original revenue series, no manual lags\n",
    "# Combine train + test for full index and easier forecast comparison\n",
    "full_series = pd.concat([train_df['revenue'], test_df['revenue']])\n",
    "\n",
    "# Fit ARIMA on training portion\n",
    "arima_model = ARIMA(train_df['revenue'], order=(1,1,1))  # (p,d,q): tweak later if needed\n",
    "arima_result = arima_model.fit()\n",
    "\n",
    "# Forecast the number of steps in test set\n",
    "forecast = arima_result.forecast(steps=len(test_df))\n",
    "\n",
    "# Evaluate\n",
    "mae = mean_absolute_error(test_df['revenue'], forecast)\n",
    "rmse = np.sqrt(mean_squared_error(test_df['revenue'], forecast))\n",
    "\n",
    "print(f\"ARIMA MAE: {mae:.2f}\")\n",
    "print(f\"ARIMA RMSE: {rmse:.2f}\")"
   ]
  },
  {
   "cell_type": "code",
   "execution_count": null,
   "metadata": {},
   "outputs": [
    {
     "name": "stderr",
     "output_type": "stream",
     "text": [
      "12:47:46 - cmdstanpy - INFO - Chain [1] start processing\n",
      "12:47:46 - cmdstanpy - INFO - Chain [1] done processing\n"
     ]
    },
    {
     "data": {
      "image/png": "[encoded data removed]",
      "text/plain": [
       "<Figure size 1200x600 with 1 Axes>"
      ]
     },
     "metadata": {},
     "output_type": "display_data"
    }
   ],
   "source": [
    "# Monthly seasonality \n",
    "# This reinforces regular monthly patterns even with limited data\n",
    "monthly_seasonality = {\n",
    "    'name': 'monthly',\n",
    "    'period': 30.5,\n",
    "    'fourier_order': 5,\n",
    "}\n",
    "\n",
    "# --- December Holidays ---\n",
    "custom_holidays = pd.DataFrame({\n",
    "    'holiday': ['xmas_push'],\n",
    "    'ds': pd.to_datetime(['2017-12-20']),\n",
    "    'lower_window': 0,\n",
    "    'upper_window': 5  # You can tweak this if needed\n",
    "})\n",
    "\n",
    "# --- Prophet Model with Additions ---\n",
    "model = Prophet(\n",
    "    seasonality_mode='multiplicative',\n",
    "    holidays=custom_holidays\n",
    ")\n",
    "\n",
    "# Add monthly seasonality manually\n",
    "model.add_seasonality(\n",
    "    name=monthly_seasonality['name'],\n",
    "    period=monthly_seasonality['period'],\n",
    "    fourier_order=monthly_seasonality['fourier_order']\n",
    ")\n",
    "\n",
    "# Prepare data\n",
    "prophet_df = train_df.reset_index()[['revenue']]\n",
    "prophet_df['ds'] = train_df.index\n",
    "prophet_df['y'] = prophet_df['revenue']\n",
    "prophet_df = prophet_df[['ds', 'y']]\n",
    "\n",
    "# Fit model\n",
    "model.fit(prophet_df)\n",
    "\n",
    "# Forecast\n",
    "future = model.make_future_dataframe(periods=len(test_df), freq='M')\n",
    "forecast = model.predict(future)\n",
    "forecast_test = forecast.set_index('ds').loc[test_df.index]\n",
    "\n",
    "# Evaluate\n",
    "mae = mean_absolute_error(test_df['revenue'], forecast_test['yhat'])\n",
    "rmse = np.sqrt(mean_squared_error(test_df['revenue'], forecast_test['yhat']))\n",
    "\n",
    "# Plot\n",
    "plt.figure(figsize=(12, 6))\n",
    "plt.plot(train_df.index, train_df['revenue'], label='Train', marker='o', color='#1f77b4')\n",
    "plt.plot(test_df.index, test_df['revenue'], label='Actual (Test)', marker='o', color='crimson')\n",
    "plt.plot(forecast_test.index, forecast_test['yhat'], label='Prophet Forecast', marker='o', color='orange')\n",
    "plt.fill_between(forecast_test.index, \n",
    "                 forecast_test['yhat_lower'], \n",
    "                 forecast_test['yhat_upper'],\n",
    "                 color='orange', alpha=0.2, label='Confidence Interval')\n",
    "\n",
    "plt.title(f\"Prophet Forecast with Custom Monthly & Holidays\\nMAE: €{mae:,.0f} | RMSE: €{rmse:,.0f}\")\n",
    "plt.xlabel(\"Date\")\n",
    "plt.ylabel(\"Monthly Revenue (€)\")\n",
    "plt.grid(True)\n",
    "plt.legend()\n",
    "plt.tight_layout()\n",
    "plt.show()"
   ]
  },
  {
   "cell_type": "code",
   "execution_count": null,
   "metadata": {},
   "outputs": [
    {
     "name": "stdout",
     "output_type": "stream",
     "text": [
      "January 2018    | Predicted: €1,090,962 | Range: €870,487 – €1,312,040\n",
      "February 2018   | Predicted: €2,740,100 | Range: €2,506,075 – €2,961,843\n",
      "March 2018      | Predicted: €2,131,035 | Range: €1,913,485 – €2,355,323\n"
     ]
    }
   ],
   "source": [
    "# Forecast enough months ahead to include Jan–Mar 2018\n",
    "future = model.make_future_dataframe(periods=5, freq='M')\n",
    "forecast = model.predict(future)\n",
    "\n",
    "# Extract only Jan–Mar 2018 (future beyond full dataset, not just test set)\n",
    "last_date = monthly_revenue_df.index.max()  # This includes test\n",
    "future_forecast = forecast[forecast['ds'] > last_date].copy()\n",
    "\n",
    "# Print results\n",
    "for _, row in future_forecast.iterrows():\n",
    "    month = row['ds'].strftime('%B %Y')\n",
    "    yhat = round(row['yhat'])\n",
    "    lower = round(row['yhat_lower'])\n",
    "    upper = round(row['yhat_upper'])\n",
    "    print(f\"{month:<15} | Predicted: €{yhat:,} | Range: €{lower:,} – €{upper:,}\")"
   ]
  }
 ],
 "metadata": {
  "kernelspec": {
   "display_name": ".venv",
   "language": "python",
   "name": "python3"
  },
  "language_info": {
   "codemirror_mode": {
    "name": "ipython",
    "version": 3
   },
   "file_extension": ".py",
   "mimetype": "text/x-python",
   "name": "python",
   "nbconvert_exporter": "python",
   "pygments_lexer": "ipython3",
   "version": "3.11.3"
  }
 },
 "nbformat": 4,
 "nbformat_minor": 2
}
